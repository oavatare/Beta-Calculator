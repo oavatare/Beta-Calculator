{
 "cells": [
  {
   "cell_type": "code",
   "execution_count": 1,
   "metadata": {},
   "outputs": [],
   "source": [
    "import pandas as pd"
   ]
  },
  {
   "cell_type": "code",
   "execution_count": 2,
   "metadata": {},
   "outputs": [],
   "source": [
    "bitcoin_price_data = pd.read_csv('Bitcoin_Price_History.csv')"
   ]
  },
  {
   "cell_type": "code",
   "execution_count": 3,
   "metadata": {},
   "outputs": [],
   "source": [
    "SP500_price_data = pd.read_csv('GSPC.csv')"
   ]
  },
  {
   "cell_type": "code",
   "execution_count": 4,
   "metadata": {},
   "outputs": [],
   "source": [
    "temp_df = pd.DataFrame() # Temporary empty dataframe\n",
    "for i in range(len(SP500_price_data)):\n",
    "    date = SP500_price_data.Date.iloc[i]\n",
    "    filterDate = bitcoin_price_data[(bitcoin_price_data['Date'] == date)]\n",
    "    New_df = pd.DataFrame(filterDate) # Creates a new dataframe of the given date\n",
    "    temp_df = temp_df.append(New_df, ignore_index=True) # Moving the contents of newly created dataframe to the temporary dataframe    "
   ]
  },
  {
   "cell_type": "code",
   "execution_count": 5,
   "metadata": {},
   "outputs": [],
   "source": [
    "temp_df['merging'] = temp_df.index.values"
   ]
  },
  {
   "cell_type": "code",
   "execution_count": 6,
   "metadata": {},
   "outputs": [],
   "source": [
    "SP500_price_data['merging'] = SP500_price_data.index.values "
   ]
  },
  {
   "cell_type": "code",
   "execution_count": 7,
   "metadata": {},
   "outputs": [],
   "source": [
    "BTCAndSP500Dataset = pd.merge(SP500_price_data, temp_df, left_on = 'merging', right_on = 'merging')"
   ]
  },
  {
   "cell_type": "code",
   "execution_count": 8,
   "metadata": {},
   "outputs": [],
   "source": [
    "BTCAndSP500Dataset.to_excel('BTCAndSP500Dataset.xlsx', sheet_name='PriceData', index=False)"
   ]
  }
 ],
 "metadata": {
  "kernelspec": {
   "display_name": "Python 3",
   "language": "python",
   "name": "python3"
  },
  "language_info": {
   "codemirror_mode": {
    "name": "ipython",
    "version": 3
   },
   "file_extension": ".py",
   "mimetype": "text/x-python",
   "name": "python",
   "nbconvert_exporter": "python",
   "pygments_lexer": "ipython3",
   "version": "3.7.0"
  }
 },
 "nbformat": 4,
 "nbformat_minor": 2
}
